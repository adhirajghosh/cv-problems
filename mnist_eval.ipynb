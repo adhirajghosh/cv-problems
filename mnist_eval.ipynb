{
 "cells": [
  {
   "cell_type": "code",
   "execution_count": 1,
   "metadata": {},
   "outputs": [
    {
     "data": {
      "text/html": [
       "<style>.container { width:100% !important; }</style>"
      ],
      "text/plain": [
       "<IPython.core.display.HTML object>"
      ]
     },
     "metadata": {},
     "output_type": "display_data"
    },
    {
     "name": "stdout",
     "output_type": "stream",
     "text": [
      "Data-set: mnist\n"
     ]
    }
   ],
   "source": [
    "from IPython.core.display import display, HTML\n",
    "display(HTML(\"<style>.container { width:100% !important; }</style>\"))\n",
    "\n",
    "from dataLoader import importData\n",
    "import tensorflow as tf\n",
    "import numpy as np\n",
    "x_train, y_train, x_test, y_test, _ = importData(5)"
   ]
  },
  {
   "cell_type": "code",
   "execution_count": 2,
   "metadata": {},
   "outputs": [],
   "source": [
    "from soft_max_classifier import get_train_val_subsets\n",
    "import os\n",
    "\n",
    "def train_model(x_train, y_train, num_epochs=20, batch_size=64, \n",
    "                checkpoint_filepath = 'checkpoint/', verbose=True):\n",
    "    x_train_, y_train_, x_val_, y_val_ = get_train_val_subsets(x_train, y_train)\n",
    "    nClass = len(np.unique(y_train))\n",
    "    num_dim = x_train.shape[1]\n",
    "\n",
    "    model = tf.keras.models.Sequential([\n",
    "    \n",
    "    tf.keras.layers.InputLayer(input_shape=(num_dim,)),\n",
    "    tf.keras.layers.Dense(1000, activation = 'relu'),\n",
    "    tf.keras.layers.Dense(1000, activation = 'relu'),\n",
    "    #tf.keras.layers.Dense(1000, activation = 'linear'),\n",
    "    tf.keras.layers.Dense(nClass, activation = 'softmax')\n",
    "    ])\n",
    "\n",
    "\n",
    "    model.compile(\n",
    "        optimizer='adam',\n",
    "        loss=tf.keras.losses.SparseCategoricalCrossentropy(from_logits=False),\n",
    "        metrics=['accuracy'],\n",
    "    )\n",
    "\n",
    "    if not os.path.exists(checkpoint_filepath):\n",
    "        os.makedirs(checkpoint_filepath)\n",
    "\n",
    "    model_checkpoint_callback = tf.keras.callbacks.ModelCheckpoint(\n",
    "        #filepath= checkpoint_filepath + '{epoch:02d}-{val_loss:.4f}.hdf5',\n",
    "        filepath = checkpoint_filepath+'best_val_acc.hdf5',\n",
    "        save_weights_only=True,\n",
    "        monitor='val_accuracy',\n",
    "        mode='max',\n",
    "        save_best_only=True,\n",
    "        metric = 'val_accuracy',\n",
    "        save_freq = 'epoch', verbose = verbose)\n",
    "\n",
    "    model.fit(x_train_, y_train_, epochs=num_epochs, validation_data=(x_val_, y_val_), \n",
    "        batch_size = batch_size, callbacks=[model_checkpoint_callback])\n",
    "\n",
    "    model.load_weights(checkpoint_filepath + 'best_val_acc.hdf5')\n",
    "    return model"
   ]
  },
  {
   "cell_type": "code",
   "execution_count": 3,
   "metadata": {},
   "outputs": [
    {
     "name": "stdout",
     "output_type": "stream",
     "text": [
      "class labels  [0 1 2 3 4 5 6 7 8 9]\n",
      "Epoch 1/20\n",
      "827/844 [============================>.] - ETA: 0s - loss: 4.9915 - accuracy: 0.8559\n",
      "Epoch 00001: val_accuracy improved from -inf to 0.89143, saving model to checkpoint/best_val_acc.hdf5\n",
      "844/844 [==============================] - 2s 3ms/step - loss: 4.9038 - accuracy: 0.8562 - val_loss: 0.4583 - val_accuracy: 0.8914\n",
      "Epoch 2/20\n",
      "840/844 [============================>.] - ETA: 0s - loss: 0.3847 - accuracy: 0.9151\n",
      "Epoch 00002: val_accuracy improved from 0.89143 to 0.92161, saving model to checkpoint/best_val_acc.hdf5\n",
      "844/844 [==============================] - 2s 2ms/step - loss: 0.3841 - accuracy: 0.9152 - val_loss: 0.3391 - val_accuracy: 0.9216\n",
      "Epoch 3/20\n",
      "835/844 [============================>.] - ETA: 0s - loss: 0.3095 - accuracy: 0.9265\n",
      "Epoch 00003: val_accuracy did not improve from 0.92161\n",
      "844/844 [==============================] - 2s 2ms/step - loss: 0.3094 - accuracy: 0.9265 - val_loss: 0.4340 - val_accuracy: 0.9104\n",
      "Epoch 4/20\n",
      "833/844 [============================>.] - ETA: 0s - loss: 0.2251 - accuracy: 0.9422\n",
      "Epoch 00004: val_accuracy improved from 0.92161 to 0.92745, saving model to checkpoint/best_val_acc.hdf5\n",
      "844/844 [==============================] - 2s 3ms/step - loss: 0.2260 - accuracy: 0.9420 - val_loss: 0.3121 - val_accuracy: 0.9275\n",
      "Epoch 5/20\n",
      "838/844 [============================>.] - ETA: 0s - loss: 0.1890 - accuracy: 0.9488\n",
      "Epoch 00005: val_accuracy improved from 0.92745 to 0.94196, saving model to checkpoint/best_val_acc.hdf5\n",
      "844/844 [==============================] - 2s 3ms/step - loss: 0.1890 - accuracy: 0.9487 - val_loss: 0.2216 - val_accuracy: 0.9420\n",
      "Epoch 6/20\n",
      "828/844 [============================>.] - ETA: 0s - loss: 0.1645 - accuracy: 0.9536\n",
      "Epoch 00006: val_accuracy improved from 0.94196 to 0.94963, saving model to checkpoint/best_val_acc.hdf5\n",
      "844/844 [==============================] - 2s 2ms/step - loss: 0.1637 - accuracy: 0.9537 - val_loss: 0.2140 - val_accuracy: 0.9496\n",
      "Epoch 7/20\n",
      "831/844 [============================>.] - ETA: 0s - loss: 0.1718 - accuracy: 0.9513\n",
      "Epoch 00007: val_accuracy improved from 0.94963 to 0.95630, saving model to checkpoint/best_val_acc.hdf5\n",
      "844/844 [==============================] - 2s 2ms/step - loss: 0.1718 - accuracy: 0.9513 - val_loss: 0.1898 - val_accuracy: 0.9563\n",
      "Epoch 8/20\n",
      "837/844 [============================>.] - ETA: 0s - loss: 0.1647 - accuracy: 0.9530\n",
      "Epoch 00008: val_accuracy did not improve from 0.95630\n",
      "844/844 [==============================] - 2s 2ms/step - loss: 0.1646 - accuracy: 0.9530 - val_loss: 0.2130 - val_accuracy: 0.9475\n",
      "Epoch 9/20\n",
      "829/844 [============================>.] - ETA: 0s - loss: 0.1645 - accuracy: 0.9540\n",
      "Epoch 00009: val_accuracy did not improve from 0.95630\n",
      "844/844 [==============================] - 2s 2ms/step - loss: 0.1642 - accuracy: 0.9540 - val_loss: 0.2290 - val_accuracy: 0.9446\n",
      "Epoch 10/20\n",
      "840/844 [============================>.] - ETA: 0s - loss: 0.1637 - accuracy: 0.9546\n",
      "Epoch 00010: val_accuracy did not improve from 0.95630\n",
      "844/844 [==============================] - 2s 3ms/step - loss: 0.1635 - accuracy: 0.9546 - val_loss: 0.1970 - val_accuracy: 0.9525\n",
      "Epoch 11/20\n",
      "841/844 [============================>.] - ETA: 0s - loss: 0.1624 - accuracy: 0.9553\n",
      "Epoch 00011: val_accuracy did not improve from 0.95630\n",
      "844/844 [==============================] - 2s 2ms/step - loss: 0.1623 - accuracy: 0.9553 - val_loss: 0.2425 - val_accuracy: 0.9430\n",
      "Epoch 12/20\n",
      "843/844 [============================>.] - ETA: 0s - loss: 0.1619 - accuracy: 0.9560\n",
      "Epoch 00012: val_accuracy did not improve from 0.95630\n",
      "844/844 [==============================] - 2s 2ms/step - loss: 0.1618 - accuracy: 0.9560 - val_loss: 0.1961 - val_accuracy: 0.9495\n",
      "Epoch 13/20\n",
      "844/844 [==============================] - ETA: 0s - loss: 0.1406 - accuracy: 0.9598\n",
      "Epoch 00013: val_accuracy did not improve from 0.95630\n",
      "844/844 [==============================] - 2s 2ms/step - loss: 0.1406 - accuracy: 0.9598 - val_loss: 0.2361 - val_accuracy: 0.9445\n",
      "Epoch 14/20\n",
      "837/844 [============================>.] - ETA: 0s - loss: 0.1381 - accuracy: 0.9623\n",
      "Epoch 00014: val_accuracy did not improve from 0.95630\n",
      "844/844 [==============================] - 2s 3ms/step - loss: 0.1384 - accuracy: 0.9623 - val_loss: 0.1998 - val_accuracy: 0.9523\n",
      "Epoch 15/20\n",
      "822/844 [============================>.] - ETA: 0s - loss: 0.1417 - accuracy: 0.9622\n",
      "Epoch 00015: val_accuracy did not improve from 0.95630\n",
      "844/844 [==============================] - 2s 3ms/step - loss: 0.1415 - accuracy: 0.9623 - val_loss: 0.2102 - val_accuracy: 0.9545\n",
      "Epoch 16/20\n",
      "825/844 [============================>.] - ETA: 0s - loss: 0.1353 - accuracy: 0.9631\n",
      "Epoch 00016: val_accuracy did not improve from 0.95630\n",
      "844/844 [==============================] - 2s 3ms/step - loss: 0.1351 - accuracy: 0.9632 - val_loss: 0.2169 - val_accuracy: 0.9501\n",
      "Epoch 17/20\n",
      "828/844 [============================>.] - ETA: 0s - loss: 0.1430 - accuracy: 0.9629\n",
      "Epoch 00017: val_accuracy improved from 0.95630 to 0.95864, saving model to checkpoint/best_val_acc.hdf5\n",
      "844/844 [==============================] - 2s 2ms/step - loss: 0.1428 - accuracy: 0.9629 - val_loss: 0.2250 - val_accuracy: 0.9586\n",
      "Epoch 18/20\n",
      "833/844 [============================>.] - ETA: 0s - loss: 0.1272 - accuracy: 0.9660\n",
      "Epoch 00018: val_accuracy did not improve from 0.95864\n",
      "844/844 [==============================] - 2s 2ms/step - loss: 0.1274 - accuracy: 0.9659 - val_loss: 0.2169 - val_accuracy: 0.9565\n",
      "Epoch 19/20\n",
      "840/844 [============================>.] - ETA: 0s - loss: 0.1357 - accuracy: 0.9648\n",
      "Epoch 00019: val_accuracy did not improve from 0.95864\n",
      "844/844 [==============================] - 2s 3ms/step - loss: 0.1357 - accuracy: 0.9648 - val_loss: 0.1999 - val_accuracy: 0.9521\n",
      "Epoch 20/20\n",
      "826/844 [============================>.] - ETA: 0s - loss: 0.1233 - accuracy: 0.9666\n",
      "Epoch 00020: val_accuracy did not improve from 0.95864\n",
      "844/844 [==============================] - 2s 3ms/step - loss: 0.1237 - accuracy: 0.9664 - val_loss: 0.2068 - val_accuracy: 0.9520\n"
     ]
    }
   ],
   "source": [
    "model = train_model(x_train, y_train)"
   ]
  },
  {
   "cell_type": "code",
   "execution_count": 10,
   "metadata": {},
   "outputs": [],
   "source": [
    "scores = model.predict(x_test)"
   ]
  },
  {
   "cell_type": "code",
   "execution_count": 11,
   "metadata": {},
   "outputs": [
    {
     "name": "stdout",
     "output_type": "stream",
     "text": [
      "deep learned accuracy\n"
     ]
    },
    {
     "data": {
      "text/plain": [
       "0.9588"
      ]
     },
     "execution_count": 11,
     "metadata": {},
     "output_type": "execute_result"
    }
   ],
   "source": [
    "print('deep learned accuracy')\n",
    "lab = np.argmax(scores, axis=1)\n",
    "np.mean(y_test==lab)"
   ]
  },
  {
   "cell_type": "code",
   "execution_count": 12,
   "metadata": {},
   "outputs": [
    {
     "name": "stdout",
     "output_type": "stream",
     "text": [
      "Data-set: fashion-mnist\n"
     ]
    }
   ],
   "source": [
    "x_train_, y_train_, x_test_, y_test_, _ = importData(0)"
   ]
  },
  {
   "cell_type": "code",
   "execution_count": 13,
   "metadata": {},
   "outputs": [
    {
     "name": "stdout",
     "output_type": "stream",
     "text": [
      "deep learned auroc\n"
     ]
    },
    {
     "data": {
      "text/plain": [
       "0.75331768"
      ]
     },
     "execution_count": 13,
     "metadata": {},
     "output_type": "execute_result"
    }
   ],
   "source": [
    "from sklearn.metrics import roc_auc_score, average_precision_score\n",
    "\n",
    "print('deep learned auroc')\n",
    "all_x = np.concatenate([x_test, x_test_], axis=0)\n",
    "all_y = np.zeros(all_x.shape[0], dtype=int)\n",
    "all_y[:x_test.shape[0]] = 1\n",
    "scores = model.predict(all_x)\n",
    "s = np.max(scores, axis=1)\n",
    "roc_auc_score(all_y, s)"
   ]
  },
  {
   "cell_type": "code",
   "execution_count": 14,
   "metadata": {},
   "outputs": [
    {
     "name": "stdout",
     "output_type": "stream",
     "text": [
      "SVM accuracy\n",
      "accuracy: 0.966\n"
     ]
    }
   ],
   "source": [
    "from sklearn.svm import SVC, LinearSVC\n",
    "from sklearn.pipeline import make_pipeline\n",
    "from sklearn.preprocessing import StandardScaler\n",
    "from sklearn.datasets import make_classification\n",
    "\n",
    "\n",
    "clf = make_pipeline(StandardScaler(),\n",
    "                     SVC(random_state=0, tol=1e-5))\n",
    "clf.fit(x_train, y_train)\n",
    "label = clf.predict(x_test)\n",
    "score = clf.decision_function(x_test)\n",
    "acc = np.mean(label==y_test)\n",
    "print('SVM accuracy')\n",
    "\n",
    "print('accuracy:', acc)"
   ]
  },
  {
   "cell_type": "code",
   "execution_count": 15,
   "metadata": {},
   "outputs": [
    {
     "name": "stdout",
     "output_type": "stream",
     "text": [
      "svm auroc\n"
     ]
    },
    {
     "data": {
      "text/plain": [
       "0.9913135399999999"
      ]
     },
     "execution_count": 15,
     "metadata": {},
     "output_type": "execute_result"
    }
   ],
   "source": [
    "print('svm auroc')\n",
    "\n",
    "score = clf.decision_function(all_x)\n",
    "s = np.max(score, axis=1)\n",
    "roc_auc_score(all_y, s)"
   ]
  }
 ],
 "metadata": {
  "kernelspec": {
   "display_name": "Python 3.6.9 64-bit",
   "language": "python",
   "name": "python36964bitb3e0b35d499041f69ef9973743caa7a9"
  },
  "language_info": {
   "codemirror_mode": {
    "name": "ipython",
    "version": 3
   },
   "file_extension": ".py",
   "mimetype": "text/x-python",
   "name": "python",
   "nbconvert_exporter": "python",
   "pygments_lexer": "ipython3",
   "version": "3.8.10"
  }
 },
 "nbformat": 4,
 "nbformat_minor": 4
}
